{
    "metadata": {
        "kernelspec": {
            "name": "SQL",
            "display_name": "SQL",
            "language": "sql"
        },
        "language_info": {
            "name": "sql",
            "version": ""
        }
    },
    "nbformat_minor": 2,
    "nbformat": 4,
    "cells": [
        {
            "cell_type": "code",
            "source": [
                " Select Distinct(Department) from Employee"
            ],
            "metadata": {
                "azdata_cell_guid": "1d947d94-1493-4e1e-a4ab-bd50ac195b13"
            },
            "outputs": [
                {
                    "output_type": "display_data",
                    "data": {
                        "text/html": "(4 rows affected)"
                    },
                    "metadata": {}
                },
                {
                    "output_type": "display_data",
                    "data": {
                        "text/html": "Total execution time: 00:00:00.003"
                    },
                    "metadata": {}
                },
                {
                    "output_type": "execute_result",
                    "metadata": {},
                    "execution_count": 4,
                    "data": {
                        "application/vnd.dataresource+json": {
                            "schema": {
                                "fields": [
                                    {
                                        "name": "Department"
                                    }
                                ]
                            },
                            "data": [
                                {
                                    "0": "Advertising"
                                },
                                {
                                    "0": "Production"
                                },
                                {
                                    "0": "Sales"
                                },
                                {
                                    "0": "Shipping"
                                }
                            ]
                        },
                        "text/html": [
                            "<table>",
                            "<tr><th>Department</th></tr>",
                            "<tr><td>Advertising</td></tr>",
                            "<tr><td>Production</td></tr>",
                            "<tr><td>Sales</td></tr>",
                            "<tr><td>Shipping</td></tr>",
                            "</table>"
                        ]
                    }
                }
            ],
            "execution_count": 4
        },
        {
            "cell_type": "code",
            "source": [
                "ALTER TABLE Employee DROP COLUMN [Hire Date];"
            ],
            "metadata": {
                "azdata_cell_guid": "c33a7681-84be-477d-a682-3453fbba660c"
            },
            "outputs": [
                {
                    "output_type": "display_data",
                    "data": {
                        "text/html": "Commands completed successfully."
                    },
                    "metadata": {}
                },
                {
                    "output_type": "display_data",
                    "data": {
                        "text/html": "Total execution time: 00:00:00.014"
                    },
                    "metadata": {}
                }
            ],
            "execution_count": 28
        },
        {
            "cell_type": "code",
            "source": [
                "INSERT into Employee (Name,Department,Training) VALUES ('Ambuj', 'Production', '24')"
            ],
            "metadata": {
                "azdata_cell_guid": "e47d6554-d62b-4433-9929-78c7481b02de"
            },
            "outputs": [
                {
                    "output_type": "display_data",
                    "data": {
                        "text/html": "(1 row affected)"
                    },
                    "metadata": {}
                },
                {
                    "output_type": "display_data",
                    "data": {
                        "text/html": "Total execution time: 00:00:00.002"
                    },
                    "metadata": {}
                }
            ],
            "execution_count": 32
        },
        {
            "cell_type": "code",
            "source": [
                "SELECT * FROM Employee"
            ],
            "metadata": {
                "azdata_cell_guid": "61fd434f-8d3b-4cb3-8a25-30c2ce630dcf"
            },
            "outputs": [
                {
                    "output_type": "display_data",
                    "data": {
                        "text/html": "(9 rows affected)"
                    },
                    "metadata": {}
                },
                {
                    "output_type": "display_data",
                    "data": {
                        "text/html": "Total execution time: 00:00:00.008"
                    },
                    "metadata": {}
                },
                {
                    "output_type": "execute_result",
                    "metadata": {},
                    "execution_count": 33,
                    "data": {
                        "application/vnd.dataresource+json": {
                            "schema": {
                                "fields": [
                                    {
                                        "name": "EmployeeID"
                                    },
                                    {
                                        "name": "Name"
                                    },
                                    {
                                        "name": "Department"
                                    },
                                    {
                                        "name": "Training"
                                    },
                                    {
                                        "name": "Location"
                                    }
                                ]
                            },
                            "data": [
                                {
                                    "0": "1234",
                                    "1": "J. Jones",
                                    "2": "Sales",
                                    "3": "24",
                                    "4": "NULL"
                                },
                                {
                                    "0": "2345",
                                    "1": "S. Smith",
                                    "2": "Production",
                                    "3": "40",
                                    "4": "NULL"
                                },
                                {
                                    "0": "3456",
                                    "1": "A. Adams",
                                    "2": "Sales",
                                    "3": "60",
                                    "4": "NULL"
                                },
                                {
                                    "0": "4567",
                                    "1": "B. Bates",
                                    "2": "Advertising",
                                    "3": "16",
                                    "4": "NULL"
                                },
                                {
                                    "0": "5678",
                                    "1": "D. Davis",
                                    "2": "Production",
                                    "3": "56",
                                    "4": "NULL"
                                },
                                {
                                    "0": "6789",
                                    "1": "C. Cole",
                                    "2": "Shipping",
                                    "3": "32",
                                    "4": "NULL"
                                },
                                {
                                    "0": "NULL",
                                    "1": "Ambuj",
                                    "2": "Production",
                                    "3": "24",
                                    "4": "NULL"
                                },
                                {
                                    "0": "8901",
                                    "1": "F.Files",
                                    "2": "Advertising",
                                    "3": "24",
                                    "4": "NULL"
                                },
                                {
                                    "0": "9012",
                                    "1": "G. Gates",
                                    "2": "Advertising",
                                    "3": "48",
                                    "4": "NULL"
                                }
                            ]
                        },
                        "text/html": [
                            "<table>",
                            "<tr><th>EmployeeID</th><th>Name</th><th>Department</th><th>Training</th><th>Location</th></tr>",
                            "<tr><td>1234</td><td>J. Jones</td><td>Sales</td><td>24</td><td>NULL</td></tr>",
                            "<tr><td>2345</td><td>S. Smith</td><td>Production</td><td>40</td><td>NULL</td></tr>",
                            "<tr><td>3456</td><td>A. Adams</td><td>Sales</td><td>60</td><td>NULL</td></tr>",
                            "<tr><td>4567</td><td>B. Bates</td><td>Advertising</td><td>16</td><td>NULL</td></tr>",
                            "<tr><td>5678</td><td>D. Davis</td><td>Production</td><td>56</td><td>NULL</td></tr>",
                            "<tr><td>6789</td><td>C. Cole</td><td>Shipping</td><td>32</td><td>NULL</td></tr>",
                            "<tr><td>NULL</td><td>Ambuj</td><td>Production</td><td>24</td><td>NULL</td></tr>",
                            "<tr><td>8901</td><td>F.Files</td><td>Advertising</td><td>24</td><td>NULL</td></tr>",
                            "<tr><td>9012</td><td>G. Gates</td><td>Advertising</td><td>48</td><td>NULL</td></tr>",
                            "</table>"
                        ]
                    }
                }
            ],
            "execution_count": 33
        },
        {
            "cell_type": "code",
            "source": [
                "ALTER TABLE [Employee] ALTER COLUMN [Department] [varchar]"
            ],
            "metadata": {
                "azdata_cell_guid": "35eec20c-39bb-49a3-96eb-6d89a06f89ed"
            },
            "outputs": [
                {
                    "output_type": "error",
                    "evalue": "Msg 2628, Level 16, State 1, Line 1\r\nString or binary data would be truncated in table 'Ambuj.dbo.Employee', column 'Department'. Truncated value: ''.",
                    "ename": "",
                    "traceback": []
                },
                {
                    "output_type": "display_data",
                    "data": {
                        "text/html": "The statement has been terminated."
                    },
                    "metadata": {}
                },
                {
                    "output_type": "display_data",
                    "data": {
                        "text/html": "Total execution time: 00:00:00.020"
                    },
                    "metadata": {}
                }
            ],
            "execution_count": 31
        },
        {
            "cell_type": "code",
            "source": [
                "SELECT * FROM Employee"
            ],
            "metadata": {
                "azdata_cell_guid": "ec4e46cb-1ed9-45a5-b2d5-cd5bdd3f1981"
            },
            "outputs": [
                {
                    "output_type": "display_data",
                    "data": {
                        "text/html": "(8 rows affected)"
                    },
                    "metadata": {}
                },
                {
                    "output_type": "display_data",
                    "data": {
                        "text/html": "Total execution time: 00:00:00.008"
                    },
                    "metadata": {}
                },
                {
                    "output_type": "execute_result",
                    "metadata": {},
                    "execution_count": 29,
                    "data": {
                        "application/vnd.dataresource+json": {
                            "schema": {
                                "fields": [
                                    {
                                        "name": "EmployeeID"
                                    },
                                    {
                                        "name": "Name"
                                    },
                                    {
                                        "name": "Department"
                                    },
                                    {
                                        "name": "Training"
                                    },
                                    {
                                        "name": "Location"
                                    }
                                ]
                            },
                            "data": [
                                {
                                    "0": "1234",
                                    "1": "J. Jones",
                                    "2": "Sales",
                                    "3": "24",
                                    "4": "NULL"
                                },
                                {
                                    "0": "2345",
                                    "1": "S. Smith",
                                    "2": "Production",
                                    "3": "40",
                                    "4": "NULL"
                                },
                                {
                                    "0": "3456",
                                    "1": "A. Adams",
                                    "2": "Sales",
                                    "3": "60",
                                    "4": "NULL"
                                },
                                {
                                    "0": "4567",
                                    "1": "B. Bates",
                                    "2": "Advertising",
                                    "3": "16",
                                    "4": "NULL"
                                },
                                {
                                    "0": "5678",
                                    "1": "D. Davis",
                                    "2": "Production",
                                    "3": "56",
                                    "4": "NULL"
                                },
                                {
                                    "0": "6789",
                                    "1": "C. Cole",
                                    "2": "Shipping",
                                    "3": "32",
                                    "4": "NULL"
                                },
                                {
                                    "0": "8901",
                                    "1": "F.Files",
                                    "2": "Advertising",
                                    "3": "24",
                                    "4": "NULL"
                                },
                                {
                                    "0": "9012",
                                    "1": "G. Gates",
                                    "2": "Advertising",
                                    "3": "48",
                                    "4": "NULL"
                                }
                            ]
                        },
                        "text/html": [
                            "<table>",
                            "<tr><th>EmployeeID</th><th>Name</th><th>Department</th><th>Training</th><th>Location</th></tr>",
                            "<tr><td>1234</td><td>J. Jones</td><td>Sales</td><td>24</td><td>NULL</td></tr>",
                            "<tr><td>2345</td><td>S. Smith</td><td>Production</td><td>40</td><td>NULL</td></tr>",
                            "<tr><td>3456</td><td>A. Adams</td><td>Sales</td><td>60</td><td>NULL</td></tr>",
                            "<tr><td>4567</td><td>B. Bates</td><td>Advertising</td><td>16</td><td>NULL</td></tr>",
                            "<tr><td>5678</td><td>D. Davis</td><td>Production</td><td>56</td><td>NULL</td></tr>",
                            "<tr><td>6789</td><td>C. Cole</td><td>Shipping</td><td>32</td><td>NULL</td></tr>",
                            "<tr><td>8901</td><td>F.Files</td><td>Advertising</td><td>24</td><td>NULL</td></tr>",
                            "<tr><td>9012</td><td>G. Gates</td><td>Advertising</td><td>48</td><td>NULL</td></tr>",
                            "</table>"
                        ]
                    }
                }
            ],
            "execution_count": 29
        },
        {
            "cell_type": "code",
            "source": [
                "SELECT * FROM Employee"
            ],
            "metadata": {
                "azdata_cell_guid": "7a07dd49-240b-4464-b3ef-43d3543a7c2e"
            },
            "outputs": [
                {
                    "output_type": "display_data",
                    "data": {
                        "text/html": "(8 rows affected)"
                    },
                    "metadata": {}
                },
                {
                    "output_type": "display_data",
                    "data": {
                        "text/html": "Total execution time: 00:00:00.010"
                    },
                    "metadata": {}
                },
                {
                    "output_type": "execute_result",
                    "metadata": {},
                    "execution_count": 24,
                    "data": {
                        "application/vnd.dataresource+json": {
                            "schema": {
                                "fields": [
                                    {
                                        "name": "EmployeeID"
                                    },
                                    {
                                        "name": "Name"
                                    },
                                    {
                                        "name": "Department"
                                    },
                                    {
                                        "name": "Hire Date"
                                    },
                                    {
                                        "name": "Training"
                                    },
                                    {
                                        "name": "Location"
                                    }
                                ]
                            },
                            "data": [
                                {
                                    "0": "1234",
                                    "1": "J. Jones",
                                    "2": "Sales",
                                    "3": "1992-06-18 00:00:00.000",
                                    "4": "24",
                                    "5": "NULL"
                                },
                                {
                                    "0": "2345",
                                    "1": "S. Smith",
                                    "2": "Production",
                                    "3": "1998-02-12 00:00:00.000",
                                    "4": "40",
                                    "5": "NULL"
                                },
                                {
                                    "0": "3456",
                                    "1": "A. Adams",
                                    "2": "Sales",
                                    "3": "1998-11-18 00:00:00.000",
                                    "4": "60",
                                    "5": "NULL"
                                },
                                {
                                    "0": "4567",
                                    "1": "B. Bates",
                                    "2": "Advertising",
                                    "3": "1985-03-10 00:00:00.000",
                                    "4": "16",
                                    "5": "NULL"
                                },
                                {
                                    "0": "5678",
                                    "1": "D. Davis",
                                    "2": "Production",
                                    "3": "1999-07-26 00:00:00.000",
                                    "4": "56",
                                    "5": "NULL"
                                },
                                {
                                    "0": "6789",
                                    "1": "C. Cole",
                                    "2": "Shipping",
                                    "3": "1991-05-18 00:00:00.000",
                                    "4": "32",
                                    "5": "NULL"
                                },
                                {
                                    "0": "8901",
                                    "1": "F.Files",
                                    "2": "Advertising",
                                    "3": "1990-10-17 00:00:00.000",
                                    "4": "24",
                                    "5": "NULL"
                                },
                                {
                                    "0": "9012",
                                    "1": "G. Gates",
                                    "2": "Advertising",
                                    "3": "1999-03-15 00:00:00.000",
                                    "4": "48",
                                    "5": "NULL"
                                }
                            ]
                        },
                        "text/html": [
                            "<table>",
                            "<tr><th>EmployeeID</th><th>Name</th><th>Department</th><th>Hire Date</th><th>Training</th><th>Location</th></tr>",
                            "<tr><td>1234</td><td>J. Jones</td><td>Sales</td><td>1992-06-18 00:00:00.000</td><td>24</td><td>NULL</td></tr>",
                            "<tr><td>2345</td><td>S. Smith</td><td>Production</td><td>1998-02-12 00:00:00.000</td><td>40</td><td>NULL</td></tr>",
                            "<tr><td>3456</td><td>A. Adams</td><td>Sales</td><td>1998-11-18 00:00:00.000</td><td>60</td><td>NULL</td></tr>",
                            "<tr><td>4567</td><td>B. Bates</td><td>Advertising</td><td>1985-03-10 00:00:00.000</td><td>16</td><td>NULL</td></tr>",
                            "<tr><td>5678</td><td>D. Davis</td><td>Production</td><td>1999-07-26 00:00:00.000</td><td>56</td><td>NULL</td></tr>",
                            "<tr><td>6789</td><td>C. Cole</td><td>Shipping</td><td>1991-05-18 00:00:00.000</td><td>32</td><td>NULL</td></tr>",
                            "<tr><td>8901</td><td>F.Files</td><td>Advertising</td><td>1990-10-17 00:00:00.000</td><td>24</td><td>NULL</td></tr>",
                            "<tr><td>9012</td><td>G. Gates</td><td>Advertising</td><td>1999-03-15 00:00:00.000</td><td>48</td><td>NULL</td></tr>",
                            "</table>"
                        ]
                    }
                }
            ],
            "execution_count": 24
        },
        {
            "cell_type": "code",
            "source": [
                "DELETE FROM Employee WHERE Training > 60 "
            ],
            "metadata": {
                "azdata_cell_guid": "3a56806f-0a30-49aa-a142-0e30f8069c37"
            },
            "outputs": [
                {
                    "output_type": "display_data",
                    "data": {
                        "text/html": "(1 row affected)"
                    },
                    "metadata": {}
                },
                {
                    "output_type": "display_data",
                    "data": {
                        "text/html": "Total execution time: 00:00:00.013"
                    },
                    "metadata": {}
                }
            ],
            "execution_count": 23
        },
        {
            "cell_type": "code",
            "source": [
                "SELECT * FROM Employee WHERE Training>40"
            ],
            "metadata": {
                "azdata_cell_guid": "d3a1e4e6-e4ab-4c2e-b9b6-9fcde3b74754"
            },
            "outputs": [
                {
                    "output_type": "display_data",
                    "data": {
                        "text/html": "(4 rows affected)"
                    },
                    "metadata": {}
                },
                {
                    "output_type": "display_data",
                    "data": {
                        "text/html": "Total execution time: 00:00:00.008"
                    },
                    "metadata": {}
                },
                {
                    "output_type": "execute_result",
                    "metadata": {},
                    "execution_count": 22,
                    "data": {
                        "application/vnd.dataresource+json": {
                            "schema": {
                                "fields": [
                                    {
                                        "name": "EmployeeID"
                                    },
                                    {
                                        "name": "Name"
                                    },
                                    {
                                        "name": "Department"
                                    },
                                    {
                                        "name": "Hire Date"
                                    },
                                    {
                                        "name": "Training"
                                    },
                                    {
                                        "name": "Location"
                                    }
                                ]
                            },
                            "data": [
                                {
                                    "0": "3456",
                                    "1": "A. Adams",
                                    "2": "Sales",
                                    "3": "1998-11-18 00:00:00.000",
                                    "4": "60",
                                    "5": "NULL"
                                },
                                {
                                    "0": "5678",
                                    "1": "D. Davis",
                                    "2": "Production",
                                    "3": "1999-07-26 00:00:00.000",
                                    "4": "56",
                                    "5": "NULL"
                                },
                                {
                                    "0": "7890",
                                    "1": "E. Ellis",
                                    "2": "Sales",
                                    "3": "1998-12-15 00:00:00.000",
                                    "4": "80",
                                    "5": "NULL"
                                },
                                {
                                    "0": "9012",
                                    "1": "G. Gates",
                                    "2": "Advertising",
                                    "3": "1999-03-15 00:00:00.000",
                                    "4": "48",
                                    "5": "NULL"
                                }
                            ]
                        },
                        "text/html": [
                            "<table>",
                            "<tr><th>EmployeeID</th><th>Name</th><th>Department</th><th>Hire Date</th><th>Training</th><th>Location</th></tr>",
                            "<tr><td>3456</td><td>A. Adams</td><td>Sales</td><td>1998-11-18 00:00:00.000</td><td>60</td><td>NULL</td></tr>",
                            "<tr><td>5678</td><td>D. Davis</td><td>Production</td><td>1999-07-26 00:00:00.000</td><td>56</td><td>NULL</td></tr>",
                            "<tr><td>7890</td><td>E. Ellis</td><td>Sales</td><td>1998-12-15 00:00:00.000</td><td>80</td><td>NULL</td></tr>",
                            "<tr><td>9012</td><td>G. Gates</td><td>Advertising</td><td>1999-03-15 00:00:00.000</td><td>48</td><td>NULL</td></tr>",
                            "</table>"
                        ]
                    }
                }
            ],
            "execution_count": 22
        },
        {
            "cell_type": "code",
            "source": [
                "SELECT   * from NewEmployee"
            ],
            "metadata": {
                "azdata_cell_guid": "5a8e2027-10b7-4e65-80fc-11e9210610c4"
            },
            "outputs": [
                {
                    "output_type": "display_data",
                    "data": {
                        "text/html": "(0 rows affected)"
                    },
                    "metadata": {}
                },
                {
                    "output_type": "display_data",
                    "data": {
                        "text/html": "Total execution time: 00:00:00.003"
                    },
                    "metadata": {}
                },
                {
                    "output_type": "execute_result",
                    "metadata": {},
                    "execution_count": 21,
                    "data": {
                        "application/vnd.dataresource+json": {
                            "schema": {
                                "fields": [
                                    {
                                        "name": "EmployeeID"
                                    },
                                    {
                                        "name": "Name"
                                    },
                                    {
                                        "name": "Department"
                                    },
                                    {
                                        "name": "Hire Date"
                                    },
                                    {
                                        "name": "Training"
                                    },
                                    {
                                        "name": "Location"
                                    }
                                ]
                            },
                            "data": []
                        },
                        "text/html": [
                            "<table>",
                            "<tr><th>EmployeeID</th><th>Name</th><th>Department</th><th>Hire Date</th><th>Training</th><th>Location</th></tr>",
                            "</table>"
                        ]
                    }
                }
            ],
            "execution_count": 21
        },
        {
            "cell_type": "code",
            "source": [
                "Select * Into NewEmployee From Employee Where 1 = 2"
            ],
            "metadata": {
                "azdata_cell_guid": "f6866398-92bd-4709-8434-567452b22e25"
            },
            "outputs": [
                {
                    "output_type": "display_data",
                    "data": {
                        "text/html": "(0 rows affected)"
                    },
                    "metadata": {}
                },
                {
                    "output_type": "display_data",
                    "data": {
                        "text/html": "Total execution time: 00:00:00.019"
                    },
                    "metadata": {}
                }
            ],
            "execution_count": 20
        },
        {
            "cell_type": "code",
            "source": [
                "SELECT   * from Employee\r\n",
                "WHERE    [Hire Date] between  '1991-01-01' AND  '1998-12-31'"
            ],
            "metadata": {
                "azdata_cell_guid": "2a34d55d-6fb5-4441-9e6b-4ea61fb8e591"
            },
            "outputs": [
                {
                    "output_type": "display_data",
                    "data": {
                        "text/html": "(5 rows affected)"
                    },
                    "metadata": {}
                },
                {
                    "output_type": "display_data",
                    "data": {
                        "text/html": "Total execution time: 00:00:00.019"
                    },
                    "metadata": {}
                },
                {
                    "output_type": "execute_result",
                    "metadata": {},
                    "execution_count": 16,
                    "data": {
                        "application/vnd.dataresource+json": {
                            "schema": {
                                "fields": [
                                    {
                                        "name": "EmployeeID"
                                    },
                                    {
                                        "name": "Name"
                                    },
                                    {
                                        "name": "Department"
                                    },
                                    {
                                        "name": "Hire Date"
                                    },
                                    {
                                        "name": "Training"
                                    },
                                    {
                                        "name": "Location"
                                    }
                                ]
                            },
                            "data": [
                                {
                                    "0": "1234",
                                    "1": "J. Jones",
                                    "2": "Sales",
                                    "3": "1992-06-18 00:00:00.000",
                                    "4": "24",
                                    "5": "NULL"
                                },
                                {
                                    "0": "2345",
                                    "1": "S. Smith",
                                    "2": "Production",
                                    "3": "1998-02-12 00:00:00.000",
                                    "4": "40",
                                    "5": "NULL"
                                },
                                {
                                    "0": "3456",
                                    "1": "A. Adams",
                                    "2": "Sales",
                                    "3": "1998-11-18 00:00:00.000",
                                    "4": "60",
                                    "5": "NULL"
                                },
                                {
                                    "0": "6789",
                                    "1": "C. Cole",
                                    "2": "Shipping",
                                    "3": "1991-05-18 00:00:00.000",
                                    "4": "32",
                                    "5": "NULL"
                                },
                                {
                                    "0": "7890",
                                    "1": "E. Ellis",
                                    "2": "Sales",
                                    "3": "1998-12-15 00:00:00.000",
                                    "4": "80",
                                    "5": "NULL"
                                }
                            ]
                        },
                        "text/html": [
                            "<table>",
                            "<tr><th>EmployeeID</th><th>Name</th><th>Department</th><th>Hire Date</th><th>Training</th><th>Location</th></tr>",
                            "<tr><td>1234</td><td>J. Jones</td><td>Sales</td><td>1992-06-18 00:00:00.000</td><td>24</td><td>NULL</td></tr>",
                            "<tr><td>2345</td><td>S. Smith</td><td>Production</td><td>1998-02-12 00:00:00.000</td><td>40</td><td>NULL</td></tr>",
                            "<tr><td>3456</td><td>A. Adams</td><td>Sales</td><td>1998-11-18 00:00:00.000</td><td>60</td><td>NULL</td></tr>",
                            "<tr><td>6789</td><td>C. Cole</td><td>Shipping</td><td>1991-05-18 00:00:00.000</td><td>32</td><td>NULL</td></tr>",
                            "<tr><td>7890</td><td>E. Ellis</td><td>Sales</td><td>1998-12-15 00:00:00.000</td><td>80</td><td>NULL</td></tr>",
                            "</table>"
                        ]
                    }
                }
            ],
            "execution_count": 16
        },
        {
            "cell_type": "code",
            "source": [
                "Select * from Employee WHERE Department in ('Sales','Shipping')"
            ],
            "metadata": {
                "azdata_cell_guid": "50114a73-875d-4a00-a56f-fbffc3fc2dc0"
            },
            "outputs": [
                {
                    "output_type": "display_data",
                    "data": {
                        "text/html": "(4 rows affected)"
                    },
                    "metadata": {}
                },
                {
                    "output_type": "display_data",
                    "data": {
                        "text/html": "Total execution time: 00:00:00.008"
                    },
                    "metadata": {}
                },
                {
                    "output_type": "execute_result",
                    "metadata": {},
                    "execution_count": 10,
                    "data": {
                        "application/vnd.dataresource+json": {
                            "schema": {
                                "fields": [
                                    {
                                        "name": "EmployeeID"
                                    },
                                    {
                                        "name": "Name"
                                    },
                                    {
                                        "name": "Department"
                                    },
                                    {
                                        "name": "Hire Date"
                                    },
                                    {
                                        "name": "Training"
                                    },
                                    {
                                        "name": "Location"
                                    }
                                ]
                            },
                            "data": [
                                {
                                    "0": "1234",
                                    "1": "J. Jones",
                                    "2": "Sales",
                                    "3": "1992-06-18 00:00:00.000",
                                    "4": "24",
                                    "5": "NULL"
                                },
                                {
                                    "0": "3456",
                                    "1": "A. Adams",
                                    "2": "Sales",
                                    "3": "1998-11-18 00:00:00.000",
                                    "4": "60",
                                    "5": "NULL"
                                },
                                {
                                    "0": "6789",
                                    "1": "C. Cole",
                                    "2": "Shipping",
                                    "3": "1991-05-18 00:00:00.000",
                                    "4": "32",
                                    "5": "NULL"
                                },
                                {
                                    "0": "7890",
                                    "1": "E. Ellis",
                                    "2": "Sales",
                                    "3": "1998-12-15 00:00:00.000",
                                    "4": "80",
                                    "5": "NULL"
                                }
                            ]
                        },
                        "text/html": [
                            "<table>",
                            "<tr><th>EmployeeID</th><th>Name</th><th>Department</th><th>Hire Date</th><th>Training</th><th>Location</th></tr>",
                            "<tr><td>1234</td><td>J. Jones</td><td>Sales</td><td>1992-06-18 00:00:00.000</td><td>24</td><td>NULL</td></tr>",
                            "<tr><td>3456</td><td>A. Adams</td><td>Sales</td><td>1998-11-18 00:00:00.000</td><td>60</td><td>NULL</td></tr>",
                            "<tr><td>6789</td><td>C. Cole</td><td>Shipping</td><td>1991-05-18 00:00:00.000</td><td>32</td><td>NULL</td></tr>",
                            "<tr><td>7890</td><td>E. Ellis</td><td>Sales</td><td>1998-12-15 00:00:00.000</td><td>80</td><td>NULL</td></tr>",
                            "</table>"
                        ]
                    }
                }
            ],
            "execution_count": 10
        },
        {
            "cell_type": "code",
            "source": [
                "sp_rename 'Employee.Emp ID', 'EmployeeID'"
            ],
            "metadata": {
                "azdata_cell_guid": "33198d2e-a2ee-4c17-8e07-b6dee1aef2e7"
            },
            "outputs": [
                {
                    "output_type": "error",
                    "evalue": "Msg 15225, Level 11, State 1, Procedure sp_rename, Line 436\r\nNo item by the name of 'Employee.Emp ID' could be found in the current database 'Ambuj', given that @itemtype was input as '(null)'.",
                    "ename": "",
                    "traceback": []
                },
                {
                    "output_type": "display_data",
                    "data": {
                        "text/html": "Total execution time: 00:00:00.011"
                    },
                    "metadata": {}
                }
            ],
            "execution_count": 7
        },
        {
            "cell_type": "code",
            "source": [
                "Select * from Employee"
            ],
            "metadata": {
                "azdata_cell_guid": "c05b5aee-0428-4538-9f35-8399ac42eaec"
            },
            "outputs": [
                {
                    "output_type": "display_data",
                    "data": {
                        "text/html": "(9 rows affected)"
                    },
                    "metadata": {}
                },
                {
                    "output_type": "display_data",
                    "data": {
                        "text/html": "Total execution time: 00:00:00.005"
                    },
                    "metadata": {}
                },
                {
                    "output_type": "execute_result",
                    "metadata": {},
                    "execution_count": 8,
                    "data": {
                        "application/vnd.dataresource+json": {
                            "schema": {
                                "fields": [
                                    {
                                        "name": "EmployeeID"
                                    },
                                    {
                                        "name": "Name"
                                    },
                                    {
                                        "name": "Department"
                                    },
                                    {
                                        "name": "Hire Date"
                                    },
                                    {
                                        "name": "Training"
                                    },
                                    {
                                        "name": "Location"
                                    }
                                ]
                            },
                            "data": [
                                {
                                    "0": "1234",
                                    "1": "J. Jones",
                                    "2": "Sales",
                                    "3": "1992-06-18 00:00:00.000",
                                    "4": "24",
                                    "5": "NULL"
                                },
                                {
                                    "0": "2345",
                                    "1": "S. Smith",
                                    "2": "Production",
                                    "3": "1998-02-12 00:00:00.000",
                                    "4": "40",
                                    "5": "NULL"
                                },
                                {
                                    "0": "3456",
                                    "1": "A. Adams",
                                    "2": "Sales",
                                    "3": "1998-11-18 00:00:00.000",
                                    "4": "60",
                                    "5": "NULL"
                                },
                                {
                                    "0": "4567",
                                    "1": "B. Bates",
                                    "2": "Advertising",
                                    "3": "1985-03-10 00:00:00.000",
                                    "4": "16",
                                    "5": "NULL"
                                },
                                {
                                    "0": "5678",
                                    "1": "D. Davis",
                                    "2": "Production",
                                    "3": "1999-07-26 00:00:00.000",
                                    "4": "56",
                                    "5": "NULL"
                                },
                                {
                                    "0": "6789",
                                    "1": "C. Cole",
                                    "2": "Shipping",
                                    "3": "1991-05-18 00:00:00.000",
                                    "4": "32",
                                    "5": "NULL"
                                },
                                {
                                    "0": "7890",
                                    "1": "E. Ellis",
                                    "2": "Sales",
                                    "3": "1998-12-15 00:00:00.000",
                                    "4": "80",
                                    "5": "NULL"
                                },
                                {
                                    "0": "8901",
                                    "1": "F.Files",
                                    "2": "Advertising",
                                    "3": "1990-10-17 00:00:00.000",
                                    "4": "24",
                                    "5": "NULL"
                                },
                                {
                                    "0": "9012",
                                    "1": "G. Gates",
                                    "2": "Advertising",
                                    "3": "1999-03-15 00:00:00.000",
                                    "4": "48",
                                    "5": "NULL"
                                }
                            ]
                        },
                        "text/html": [
                            "<table>",
                            "<tr><th>EmployeeID</th><th>Name</th><th>Department</th><th>Hire Date</th><th>Training</th><th>Location</th></tr>",
                            "<tr><td>1234</td><td>J. Jones</td><td>Sales</td><td>1992-06-18 00:00:00.000</td><td>24</td><td>NULL</td></tr>",
                            "<tr><td>2345</td><td>S. Smith</td><td>Production</td><td>1998-02-12 00:00:00.000</td><td>40</td><td>NULL</td></tr>",
                            "<tr><td>3456</td><td>A. Adams</td><td>Sales</td><td>1998-11-18 00:00:00.000</td><td>60</td><td>NULL</td></tr>",
                            "<tr><td>4567</td><td>B. Bates</td><td>Advertising</td><td>1985-03-10 00:00:00.000</td><td>16</td><td>NULL</td></tr>",
                            "<tr><td>5678</td><td>D. Davis</td><td>Production</td><td>1999-07-26 00:00:00.000</td><td>56</td><td>NULL</td></tr>",
                            "<tr><td>6789</td><td>C. Cole</td><td>Shipping</td><td>1991-05-18 00:00:00.000</td><td>32</td><td>NULL</td></tr>",
                            "<tr><td>7890</td><td>E. Ellis</td><td>Sales</td><td>1998-12-15 00:00:00.000</td><td>80</td><td>NULL</td></tr>",
                            "<tr><td>8901</td><td>F.Files</td><td>Advertising</td><td>1990-10-17 00:00:00.000</td><td>24</td><td>NULL</td></tr>",
                            "<tr><td>9012</td><td>G. Gates</td><td>Advertising</td><td>1999-03-15 00:00:00.000</td><td>48</td><td>NULL</td></tr>",
                            "</table>"
                        ]
                    }
                }
            ],
            "execution_count": 8
        }
    ]
}